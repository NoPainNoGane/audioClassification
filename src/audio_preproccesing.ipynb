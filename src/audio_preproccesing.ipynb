{
 "cells": [
  {
   "cell_type": "code",
   "execution_count": 5,
   "metadata": {},
   "outputs": [],
   "source": [
    "import librosa\n",
    "from librosa import display\n",
    "import numpy as np\n",
    "import IPython.display as ipd\n",
    "import matplotlib as plt\n",
    "import os"
   ]
  },
  {
   "cell_type": "code",
   "execution_count": 6,
   "metadata": {},
   "outputs": [],
   "source": [
    "def get_file_paths(directory):\n",
    "    file_paths = []\n",
    "    # Проходим по всем подкаталогам и файлам в указанной директории\n",
    "    for root, dirs, files in os.walk(directory):\n",
    "        for file in files:\n",
    "            # Формируем полный путь к файлу и добавляем его в список\n",
    "            file_paths.append(os.path.join(root, file))\n",
    "    return file_paths"
   ]
  },
  {
   "cell_type": "code",
   "execution_count": 14,
   "metadata": {},
   "outputs": [
    {
     "data": {
      "text/plain": [
       "['/home/vitaliy/workFiles/audioClassification/audio/sourceAudio/deffects/audio_2024-09-16_11-21-44.ogg',\n",
       " '/home/vitaliy/workFiles/audioClassification/audio/sourceAudio/deffects/audio_2024-09-16_11-18-13.ogg',\n",
       " '/home/vitaliy/workFiles/audioClassification/audio/sourceAudio/deffects/audio_2024-09-16_11-18-02.ogg',\n",
       " '/home/vitaliy/workFiles/audioClassification/audio/sourceAudio/deffects/9 сент., 5287 пц80 чрф.m4a',\n",
       " '/home/vitaliy/workFiles/audioClassification/audio/sourceAudio/deffects/10 сент., 12276 чрф.m4a',\n",
       " '/home/vitaliy/workFiles/audioClassification/audio/sourceAudio/deffects/9 сент., 990а чрф.m4a',\n",
       " '/home/vitaliy/workFiles/audioClassification/audio/sourceAudio/deffects/9 сент., 23081 чрф.m4a',\n",
       " '/home/vitaliy/workFiles/audioClassification/audio/sourceAudio/deffects/audio_2024-09-16_11-18-27.ogg',\n",
       " '/home/vitaliy/workFiles/audioClassification/audio/sourceAudio/deffects/audio_2024-09-16_11-18-23.ogg',\n",
       " '/home/vitaliy/workFiles/audioClassification/audio/sourceAudio/deffects/audio_2024-09-16_11-18-16.ogg',\n",
       " '/home/vitaliy/workFiles/audioClassification/audio/sourceAudio/deffects/10 сент., 22169 чрф.m4a',\n",
       " '/home/vitaliy/workFiles/audioClassification/audio/sourceAudio/deffects/audio_2024-09-16_11-18-08.ogg',\n",
       " '/home/vitaliy/workFiles/audioClassification/audio/sourceAudio/deffects/audio_2024-09-16_11-18-38.ogg',\n",
       " '/home/vitaliy/workFiles/audioClassification/audio/sourceAudio/deffects/audio_2024-09-16_11-18-20.ogg',\n",
       " '/home/vitaliy/workFiles/audioClassification/audio/sourceAudio/deffects/audio_2024-09-16_11-18-31.ogg',\n",
       " '/home/vitaliy/workFiles/audioClassification/audio/sourceAudio/deffects/10 сент., 11809.m4a',\n",
       " '/home/vitaliy/workFiles/audioClassification/audio/sourceAudio/deffects/9 сент., 23055 то.m4a',\n",
       " '/home/vitaliy/workFiles/audioClassification/audio/sourceAudio/deffects/10 сент., 11775 чрф.m4a',\n",
       " '/home/vitaliy/workFiles/audioClassification/audio/sourceAudio/deffects/audio_2024-09-16_11-18-35.ogg',\n",
       " '/home/vitaliy/workFiles/audioClassification/audio/sourceAudio/deffects/audio_2024-09-16_11-22-12.ogg']"
      ]
     },
     "execution_count": 14,
     "metadata": {},
     "output_type": "execute_result"
    }
   ],
   "source": [
    "# Укажите директорию, из которой нужно получить пути файлов\n",
    "directory = '/home/vitaliy/workFiles/audioClassification/audio/sourceAudio/deffects'\n",
    "file_paths = get_file_paths(directory)\n",
    "\n",
    "audios_path_deffects = []\n",
    "# Выводим список путей файлов\n",
    "for path in file_paths:\n",
    "    audios_path_deffects.append(path)\n",
    "audios_path_deffects"
   ]
  },
  {
   "cell_type": "code",
   "execution_count": null,
   "metadata": {},
   "outputs": [],
   "source": [
    "# Укажите директорию, из которой нужно получить пути файлов\n",
    "directory = '/home/vitaliy/workFiles/audioClassification/audio/sourceAudio/normal'\n",
    "file_paths = get_file_paths(directory)\n",
    "\n",
    "audios_path_normal = []\n",
    "# Выводим список путей файлов\n",
    "for path in file_paths:\n",
    "    audios_path_normal.append(path)\n",
    "audios_path_normal"
   ]
  }
 ],
 "metadata": {
  "kernelspec": {
   "display_name": ".venv",
   "language": "python",
   "name": "python3"
  },
  "language_info": {
   "codemirror_mode": {
    "name": "ipython",
    "version": 3
   },
   "file_extension": ".py",
   "mimetype": "text/x-python",
   "name": "python",
   "nbconvert_exporter": "python",
   "pygments_lexer": "ipython3",
   "version": "3.12.3"
  }
 },
 "nbformat": 4,
 "nbformat_minor": 2
}
